{
 "cells": [
  {
   "cell_type": "markdown",
   "id": "43c33237-ede0-4268-b29a-f2fda35bcee9",
   "metadata": {},
   "source": [
    "# import necessary libraries"
   ]
  },
  {
   "cell_type": "code",
   "execution_count": 1,
   "id": "883d4cea",
   "metadata": {},
   "outputs": [],
   "source": [
    "# Loading Libraries in The Dataset\n",
    "import numpy as np\n",
    "import pandas as pd\n",
    "import seaborn as sns\n",
    "import matplotlib.pyplot as plt\n",
    "%matplotlib inline\n",
    "plt.style.use('fivethirtyeight')\n",
    "\n",
    "from sklearn.tree import DecisionTreeClassifier\n",
    "from sklearn.preprocessing import StandardScaler\n",
    "\n",
    "from sklearn.model_selection import train_test_split\n",
    "\n",
    "\n",
    "from sklearn.model_selection import GridSearchCV\n",
    "from sklearn.model_selection import train_test_split\n",
    "from sklearn.metrics import accuracy_score,recall_score,precision_score,f1_score,confusion_matrix\n",
    "from sklearn.metrics import classification_report,roc_curve, roc_auc_score,classification_report\n",
    "\n",
    "\n",
    "from sklearn import metrics\n",
    "import warnings\n",
    "warnings.filterwarnings('ignore')\n",
    "import re"
   ]
  },
  {
   "cell_type": "markdown",
   "id": "52539d3c",
   "metadata": {
    "id": "eYhhNMsQw40h"
   },
   "source": [
    "## Loading NEO past  Data "
   ]
  },
  {
   "cell_type": "code",
   "execution_count": 2,
   "id": "b5c9eae8-ad0e-464d-8476-4c74ea79b92a",
   "metadata": {},
   "outputs": [
    {
     "data": {
      "text/html": [
       "<div>\n",
       "<style scoped>\n",
       "    .dataframe tbody tr th:only-of-type {\n",
       "        vertical-align: middle;\n",
       "    }\n",
       "\n",
       "    .dataframe tbody tr th {\n",
       "        vertical-align: top;\n",
       "    }\n",
       "\n",
       "    .dataframe thead th {\n",
       "        text-align: right;\n",
       "    }\n",
       "</style>\n",
       "<table border=\"1\" class=\"dataframe\">\n",
       "  <thead>\n",
       "    <tr style=\"text-align: right;\">\n",
       "      <th></th>\n",
       "      <th>Object</th>\n",
       "      <th>Close-Approach (CA) Date</th>\n",
       "      <th>CA DistanceNominal (au)</th>\n",
       "      <th>CA DistanceMinimum (au)</th>\n",
       "      <th>V relative(km/s)</th>\n",
       "      <th>V infinity(km/s)</th>\n",
       "      <th>H(mag)</th>\n",
       "      <th>Diameter</th>\n",
       "      <th>Rarity</th>\n",
       "    </tr>\n",
       "  </thead>\n",
       "  <tbody>\n",
       "    <tr>\n",
       "      <th>0</th>\n",
       "      <td>509352 (2007 AG)</td>\n",
       "      <td>1900-Jan-04 22:25 ±    00:02</td>\n",
       "      <td>0.00963</td>\n",
       "      <td>0.00962</td>\n",
       "      <td>8.69</td>\n",
       "      <td>8.65</td>\n",
       "      <td>20.2</td>\n",
       "      <td>250 m -  550 m</td>\n",
       "      <td>2</td>\n",
       "    </tr>\n",
       "    <tr>\n",
       "      <th>1</th>\n",
       "      <td>(2014 SC324)</td>\n",
       "      <td>1900-Jan-11 01:07 ±    00:18</td>\n",
       "      <td>0.03997</td>\n",
       "      <td>0.03991</td>\n",
       "      <td>10.65</td>\n",
       "      <td>10.65</td>\n",
       "      <td>24.4</td>\n",
       "      <td>35 m -   79 m</td>\n",
       "      <td>0</td>\n",
       "    </tr>\n",
       "    <tr>\n",
       "      <th>2</th>\n",
       "      <td>(2012 UK171)</td>\n",
       "      <td>1900-Jan-12 23:07 ±    00:13</td>\n",
       "      <td>0.04982</td>\n",
       "      <td>0.04950</td>\n",
       "      <td>7.16</td>\n",
       "      <td>7.15</td>\n",
       "      <td>24.4</td>\n",
       "      <td>35 m -   77 m</td>\n",
       "      <td>0</td>\n",
       "    </tr>\n",
       "    <tr>\n",
       "      <th>3</th>\n",
       "      <td>(2024 BW1)</td>\n",
       "      <td>1900-Jan-25 19:29 ± 4_11:16</td>\n",
       "      <td>0.03798</td>\n",
       "      <td>0.01013</td>\n",
       "      <td>6.34</td>\n",
       "      <td>6.33</td>\n",
       "      <td>25.1</td>\n",
       "      <td>25 m -   56 m</td>\n",
       "      <td>0</td>\n",
       "    </tr>\n",
       "    <tr>\n",
       "      <th>4</th>\n",
       "      <td>4660 Nereus (1982 DB)</td>\n",
       "      <td>1900-Jan-29 18:09 ±    00:35</td>\n",
       "      <td>0.02080</td>\n",
       "      <td>0.02077</td>\n",
       "      <td>5.54</td>\n",
       "      <td>5.52</td>\n",
       "      <td>18.8</td>\n",
       "      <td>0.33±0.05 km</td>\n",
       "      <td>2</td>\n",
       "    </tr>\n",
       "  </tbody>\n",
       "</table>\n",
       "</div>"
      ],
      "text/plain": [
       "                  Object      Close-Approach (CA) Date  \\\n",
       "0       509352 (2007 AG)  1900-Jan-04 22:25 ±    00:02   \n",
       "1           (2014 SC324)  1900-Jan-11 01:07 ±    00:18   \n",
       "2           (2012 UK171)  1900-Jan-12 23:07 ±    00:13   \n",
       "3             (2024 BW1)   1900-Jan-25 19:29 ± 4_11:16   \n",
       "4  4660 Nereus (1982 DB)  1900-Jan-29 18:09 ±    00:35   \n",
       "\n",
       "   CA DistanceNominal (au)  CA DistanceMinimum (au)  V relative(km/s)  \\\n",
       "0                  0.00963                  0.00962              8.69   \n",
       "1                  0.03997                  0.03991             10.65   \n",
       "2                  0.04982                  0.04950              7.16   \n",
       "3                  0.03798                  0.01013              6.34   \n",
       "4                  0.02080                  0.02077              5.54   \n",
       "\n",
       "   V infinity(km/s)  H(mag)        Diameter  Rarity  \n",
       "0              8.65    20.2  250 m -  550 m       2  \n",
       "1             10.65    24.4   35 m -   79 m       0  \n",
       "2              7.15    24.4   35 m -   77 m       0  \n",
       "3              6.33    25.1   25 m -   56 m       0  \n",
       "4              5.52    18.8    0.33±0.05 km       2  "
      ]
     },
     "execution_count": 2,
     "metadata": {},
     "output_type": "execute_result"
    }
   ],
   "source": [
    "df_past=pd.read_csv('NEO Earth Close Approaches_past.csv')\n",
    "df_past.head()"
   ]
  },
  {
   "cell_type": "markdown",
   "id": "ff4899f9-c416-437c-a36d-71cd80050ae7",
   "metadata": {},
   "source": [
    "# Loading NEO Future  Data "
   ]
  },
  {
   "cell_type": "code",
   "execution_count": 3,
   "id": "aff20589",
   "metadata": {
    "colab": {
     "base_uri": "https://localhost:8080/",
     "height": 351
    },
    "id": "xeIq9PWLaGof",
    "outputId": "0790097e-54b6-4bc2-acbf-1f25fe8bb6e7"
   },
   "outputs": [
    {
     "data": {
      "text/html": [
       "<div>\n",
       "<style scoped>\n",
       "    .dataframe tbody tr th:only-of-type {\n",
       "        vertical-align: middle;\n",
       "    }\n",
       "\n",
       "    .dataframe tbody tr th {\n",
       "        vertical-align: top;\n",
       "    }\n",
       "\n",
       "    .dataframe thead th {\n",
       "        text-align: right;\n",
       "    }\n",
       "</style>\n",
       "<table border=\"1\" class=\"dataframe\">\n",
       "  <thead>\n",
       "    <tr style=\"text-align: right;\">\n",
       "      <th></th>\n",
       "      <th>Object</th>\n",
       "      <th>Close-Approach (CA) Date</th>\n",
       "      <th>CA DistanceNominal (au)</th>\n",
       "      <th>CA DistanceMinimum (au)</th>\n",
       "      <th>V relative(km/s)</th>\n",
       "      <th>V infinity(km/s)</th>\n",
       "      <th>H(mag)</th>\n",
       "      <th>Diameter</th>\n",
       "      <th>Rarity</th>\n",
       "    </tr>\n",
       "  </thead>\n",
       "  <tbody>\n",
       "    <tr>\n",
       "      <th>0</th>\n",
       "      <td>(2024 KA1)</td>\n",
       "      <td>2024-Jun-07 11:06 ± &lt; 00:01</td>\n",
       "      <td>0.01255</td>\n",
       "      <td>0.01254</td>\n",
       "      <td>8.32</td>\n",
       "      <td>8.30</td>\n",
       "      <td>25.3</td>\n",
       "      <td>23 m -   51 m</td>\n",
       "      <td>0.0</td>\n",
       "    </tr>\n",
       "    <tr>\n",
       "      <th>1</th>\n",
       "      <td>(2024 LA)</td>\n",
       "      <td>2024-Jun-07 22:20 ± &lt; 00:01</td>\n",
       "      <td>0.01204</td>\n",
       "      <td>0.01197</td>\n",
       "      <td>18.28</td>\n",
       "      <td>18.27</td>\n",
       "      <td>25.8</td>\n",
       "      <td>18 m -   41 m</td>\n",
       "      <td>0.0</td>\n",
       "    </tr>\n",
       "    <tr>\n",
       "      <th>2</th>\n",
       "      <td>(2024 LC)</td>\n",
       "      <td>2024-Jun-08 12:18 ± &lt; 00:01</td>\n",
       "      <td>0.03137</td>\n",
       "      <td>0.03122</td>\n",
       "      <td>8.71</td>\n",
       "      <td>8.70</td>\n",
       "      <td>25.6</td>\n",
       "      <td>20 m -   45 m</td>\n",
       "      <td>0.0</td>\n",
       "    </tr>\n",
       "    <tr>\n",
       "      <th>3</th>\n",
       "      <td>(2024 CR9)</td>\n",
       "      <td>2024-Jun-11 00:03 ± &lt; 00:01</td>\n",
       "      <td>0.04924</td>\n",
       "      <td>0.04924</td>\n",
       "      <td>7.38</td>\n",
       "      <td>7.37</td>\n",
       "      <td>19.5</td>\n",
       "      <td>340 m -  760 m</td>\n",
       "      <td>1.0</td>\n",
       "    </tr>\n",
       "    <tr>\n",
       "      <th>4</th>\n",
       "      <td>(2024 LD)</td>\n",
       "      <td>2024-Jun-11 11:06 ±    00:02</td>\n",
       "      <td>0.03093</td>\n",
       "      <td>0.03067</td>\n",
       "      <td>10.68</td>\n",
       "      <td>10.67</td>\n",
       "      <td>26.1</td>\n",
       "      <td>16 m -   36 m</td>\n",
       "      <td>0.0</td>\n",
       "    </tr>\n",
       "  </tbody>\n",
       "</table>\n",
       "</div>"
      ],
      "text/plain": [
       "       Object      Close-Approach (CA) Date  CA DistanceNominal (au)  \\\n",
       "0  (2024 KA1)   2024-Jun-07 11:06 ± < 00:01                  0.01255   \n",
       "1   (2024 LA)   2024-Jun-07 22:20 ± < 00:01                  0.01204   \n",
       "2   (2024 LC)   2024-Jun-08 12:18 ± < 00:01                  0.03137   \n",
       "3  (2024 CR9)   2024-Jun-11 00:03 ± < 00:01                  0.04924   \n",
       "4   (2024 LD)  2024-Jun-11 11:06 ±    00:02                  0.03093   \n",
       "\n",
       "   CA DistanceMinimum (au)  V relative(km/s)  V infinity(km/s)  H(mag)  \\\n",
       "0                  0.01254              8.32              8.30    25.3   \n",
       "1                  0.01197             18.28             18.27    25.8   \n",
       "2                  0.03122              8.71              8.70    25.6   \n",
       "3                  0.04924              7.38              7.37    19.5   \n",
       "4                  0.03067             10.68             10.67    26.1   \n",
       "\n",
       "         Diameter  Rarity  \n",
       "0   23 m -   51 m     0.0  \n",
       "1   18 m -   41 m     0.0  \n",
       "2   20 m -   45 m     0.0  \n",
       "3  340 m -  760 m     1.0  \n",
       "4   16 m -   36 m     0.0  "
      ]
     },
     "execution_count": 3,
     "metadata": {},
     "output_type": "execute_result"
    }
   ],
   "source": [
    "# Load the dataset\n",
    "df_future=pd.read_csv('NEO_future.csv')\n",
    "df_future.head()"
   ]
  },
  {
   "cell_type": "markdown",
   "id": "e1a376c0-5054-4f96-9956-8c36df9f0f04",
   "metadata": {},
   "source": [
    "# concatinating past and future data "
   ]
  },
  {
   "cell_type": "code",
   "execution_count": 4,
   "id": "091a82fd-771d-45bb-952e-a03d19acd8f9",
   "metadata": {},
   "outputs": [],
   "source": [
    "df=pd.concat([df_past,df_future],axis=0)\n",
    "df=df.reset_index(drop=True)"
   ]
  },
  {
   "cell_type": "code",
   "execution_count": 5,
   "id": "2d008e57",
   "metadata": {
    "id": "J-yKrkxjw40i",
    "outputId": "0f810d08-6da6-4250-cc32-fb5b030a0420"
   },
   "outputs": [
    {
     "name": "stdout",
     "output_type": "stream",
     "text": [
      "<class 'pandas.core.frame.DataFrame'>\n",
      "RangeIndex: 29918 entries, 0 to 29917\n",
      "Data columns (total 9 columns):\n",
      " #   Column                    Non-Null Count  Dtype  \n",
      "---  ------                    --------------  -----  \n",
      " 0   Object                    29918 non-null  object \n",
      " 1   Close-Approach (CA) Date  29918 non-null  object \n",
      " 2   CA DistanceNominal (au)   29918 non-null  float64\n",
      " 3   CA DistanceMinimum (au)   29918 non-null  float64\n",
      " 4   V relative(km/s)          29918 non-null  float64\n",
      " 5   V infinity(km/s)          29910 non-null  float64\n",
      " 6   H(mag)                    29916 non-null  float64\n",
      " 7   Diameter                  29916 non-null  object \n",
      " 8   Rarity                    29916 non-null  float64\n",
      "dtypes: float64(6), object(3)\n",
      "memory usage: 2.1+ MB\n"
     ]
    }
   ],
   "source": [
    "df.info()"
   ]
  },
  {
   "cell_type": "code",
   "execution_count": null,
   "id": "bd560e6d-32d1-42e7-acc4-df1fed744916",
   "metadata": {},
   "outputs": [],
   "source": []
  }
 ],
 "metadata": {
  "kernelspec": {
   "display_name": "Python 3 (ipykernel)",
   "language": "python",
   "name": "python3"
  },
  "language_info": {
   "codemirror_mode": {
    "name": "ipython",
    "version": 3
   },
   "file_extension": ".py",
   "mimetype": "text/x-python",
   "name": "python",
   "nbconvert_exporter": "python",
   "pygments_lexer": "ipython3",
   "version": "3.11.7"
  }
 },
 "nbformat": 4,
 "nbformat_minor": 5
}
